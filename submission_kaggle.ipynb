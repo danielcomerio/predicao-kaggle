{
  "nbformat": 4,
  "nbformat_minor": 0,
  "metadata": {
    "colab": {
      "name": "submission-kaggle.ipynb",
      "provenance": []
    },
    "kernelspec": {
      "name": "python3",
      "display_name": "Python 3"
    },
    "language_info": {
      "name": "python"
    }
  },
  "cells": [
    {
      "cell_type": "code",
      "execution_count": 60,
      "metadata": {
        "id": "-fdw6cFBRlpO"
      },
      "outputs": [],
      "source": [
        "import numpy as np\n",
        "import matplotlib.pyplot as plt\n",
        "import pandas as pd"
      ]
    },
    {
      "cell_type": "code",
      "source": [
        "train_df = pd.read_csv('./train.csv')\n",
        "test_df = pd.read_csv('./test.csv')"
      ],
      "metadata": {
        "id": "XcY1rYOeYmxf"
      },
      "execution_count": 61,
      "outputs": []
    },
    {
      "cell_type": "code",
      "source": [
        "train_df=train_df.drop(\"PassengerId\",axis=1)\n",
        "train_df=train_df.drop(\"Name\",axis=1)\n",
        "train_df=train_df.drop(\"Ticket\",axis=1)\n",
        "train_df=train_df.drop(\"Cabin\",axis=1)"
      ],
      "metadata": {
        "id": "_7oJ3e2XYnC8"
      },
      "execution_count": 62,
      "outputs": []
    },
    {
      "cell_type": "code",
      "source": [
        "test_df=test_df.drop(\"Name\",axis=1)\n",
        "test_df=test_df.drop(\"Ticket\",axis=1)\n",
        "test_df=test_df.drop(\"Cabin\",axis=1)"
      ],
      "metadata": {
        "id": "enHpjJPnYnGv"
      },
      "execution_count": 63,
      "outputs": []
    },
    {
      "cell_type": "code",
      "source": [
        "data = [train_df, test_df]\n",
        "\n",
        "for dataset in data:\n",
        "    mean = train_df[\"Age\"].mean()\n",
        "    std = test_df[\"Age\"].std()\n",
        "    is_null = dataset[\"Age\"].isnull().sum()\n",
        "    rand_age = np.random.randint(mean - std, mean + std, size = is_null)\n",
        "    age_slice = dataset[\"Age\"].copy()\n",
        "    age_slice[np.isnan(age_slice)] = rand_age\n",
        "    dataset[\"Age\"] = age_slice\n",
        "    dataset[\"Age\"] = train_df[\"Age\"].astype(int)\n",
        "train_df[\"Age\"].isnull().sum()"
      ],
      "metadata": {
        "colab": {
          "base_uri": "https://localhost:8080/"
        },
        "id": "rSzKVIW_Y3m6",
        "outputId": "83b5a650-8849-4c9d-ebc8-36fdb2b9e236"
      },
      "execution_count": 64,
      "outputs": [
        {
          "output_type": "execute_result",
          "data": {
            "text/plain": [
              "0"
            ]
          },
          "metadata": {},
          "execution_count": 64
        }
      ]
    },
    {
      "cell_type": "code",
      "source": [
        "common_value = 'S'\n",
        "train_df[\"Embarked\"] = train_df[\"Embarked\"].fillna(common_value)"
      ],
      "metadata": {
        "id": "YaZdkmWkY3o_"
      },
      "execution_count": 65,
      "outputs": []
    },
    {
      "cell_type": "code",
      "source": [
        "test_df = test_df.fillna(test_df['Fare'].mean())"
      ],
      "metadata": {
        "id": "j2JdzSOlZfRv"
      },
      "execution_count": 66,
      "outputs": []
    },
    {
      "cell_type": "code",
      "source": [
        "from sklearn.preprocessing import LabelEncoder\n",
        "le = LabelEncoder()\n",
        "train_df[\"Sex\"]= le.fit_transform(train_df[\"Sex\"])"
      ],
      "metadata": {
        "id": "iHLgnKy9ZfUb"
      },
      "execution_count": 67,
      "outputs": []
    },
    {
      "cell_type": "code",
      "source": [
        "from sklearn.preprocessing import LabelEncoder\n",
        "le = LabelEncoder()\n",
        "test_df[\"Sex\"]= le.fit_transform(test_df[\"Sex\"])"
      ],
      "metadata": {
        "id": "u45cniuIZfX6"
      },
      "execution_count": 68,
      "outputs": []
    },
    {
      "cell_type": "code",
      "source": [
        "from sklearn.preprocessing import LabelEncoder\n",
        "le = LabelEncoder()\n",
        "train_df[\"Embarked\"]= le.fit_transform(train_df[\"Embarked\"])"
      ],
      "metadata": {
        "id": "8m9RcOA2ZfbN"
      },
      "execution_count": 69,
      "outputs": []
    },
    {
      "cell_type": "code",
      "source": [
        "from sklearn.preprocessing import LabelEncoder\n",
        "le = LabelEncoder()\n",
        "test_df[\"Embarked\"]= le.fit_transform(test_df[\"Embarked\"])"
      ],
      "metadata": {
        "id": "ZUdJoJUAZfes"
      },
      "execution_count": 70,
      "outputs": []
    },
    {
      "cell_type": "code",
      "source": [
        "X_train = train_df.drop(\"Survived\", axis=1)\n",
        "Y_train = train_df[\"Survived\"]\n",
        "X_test  = test_df.drop(\"PassengerId\", axis=1).copy()"
      ],
      "metadata": {
        "id": "su_ag49qZfj9"
      },
      "execution_count": 71,
      "outputs": []
    },
    {
      "cell_type": "code",
      "source": [
        "from sklearn.preprocessing import StandardScaler\n",
        "sc = StandardScaler()\n",
        "X_train = sc.fit_transform(X_train)\n",
        "X_test = sc.transform(X_test)"
      ],
      "metadata": {
        "id": "kekBrrsca0gg"
      },
      "execution_count": 72,
      "outputs": []
    },
    {
      "cell_type": "code",
      "source": [
        "from sklearn.svm import SVC\n",
        "classifier = SVC(kernel = 'rbf', random_state = 0)\n",
        "classifier.fit(X_train, Y_train)\n",
        "Y_pred = classifier.predict(X_test)"
      ],
      "metadata": {
        "id": "Lf2kqRZga0jL"
      },
      "execution_count": 73,
      "outputs": []
    },
    {
      "cell_type": "code",
      "source": [
        "from sklearn.metrics import accuracy_score\n",
        "classifier.score(X_train, Y_train)\n",
        "classifier = round(classifier.score(X_train, Y_train) * 100, 2)"
      ],
      "metadata": {
        "id": "nadIRjNqa0l4"
      },
      "execution_count": 74,
      "outputs": []
    },
    {
      "cell_type": "code",
      "source": [
        "submission = pd.DataFrame({\n",
        "        \"PassengerId\": test_df[\"PassengerId\"],\n",
        "        \"Survived\": Y_pred\n",
        "    })"
      ],
      "metadata": {
        "id": "GroVbPQVa0o-"
      },
      "execution_count": 75,
      "outputs": []
    },
    {
      "cell_type": "code",
      "source": [
        "submission.to_csv('submission.csv', index=False)"
      ],
      "metadata": {
        "id": "nEIJIiJ-a0r4"
      },
      "execution_count": 76,
      "outputs": []
    }
  ]
}